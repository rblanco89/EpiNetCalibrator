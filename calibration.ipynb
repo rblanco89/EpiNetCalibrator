{
 "cells": [
  {
   "cell_type": "code",
   "execution_count": 4,
   "id": "66a79a2d-7cbf-4ad1-bd46-94dd61dff5db",
   "metadata": {},
   "outputs": [],
   "source": [
    "import numpy as np\n",
    "from scipy.optimize import differential_evolution\n",
    "import subprocess"
   ]
  },
  {
   "cell_type": "code",
   "execution_count": 22,
   "id": "5c45469d-9349-4b45-869e-b2761e0304ea",
   "metadata": {},
   "outputs": [],
   "source": [
    "def modify_and_run(params, param_template='template.param', param_file='paramSim.param'):\n",
    "    # Unpack the parameters\n",
    "    K, E, B, C = params\n",
    "    \n",
    "    # Read the template file\n",
    "    with open(param_template, 'r') as file:\n",
    "        content = file.readlines()\n",
    "    \n",
    "    # Replace placeholders with current parameters\n",
    "    new_content = []\n",
    "    for line in content:\n",
    "        if '#K' in line:\n",
    "            new_content.append(f\"{2*int(K)}             # Average degree of nodes (even number)\\n\")\n",
    "        elif '#E' in line:\n",
    "            new_content.append(f\"{E}             # Probability of developing infection\\n\")\n",
    "        elif '#B' in line:\n",
    "            new_content.append(f\"{B}             # Probability of infecting\\n\")\n",
    "        elif '#C' in line:\n",
    "            new_content.append(f\"{C}             # Prob. to restrict a random edge during the LD\\n\")\n",
    "        elif '#SEED' in line:\n",
    "            new_content.append(f\"{np.random.randint(99999)}             # Seed (random numbers)\\n\")\n",
    "        else:\n",
    "            new_content.append(line)\n",
    "    \n",
    "    # Write modified content to the param file\n",
    "    with open(param_file, 'w') as file:\n",
    "        file.writelines(new_content)\n",
    "\n",
    "    # Open the param file in binary mode and read content\n",
    "    with open(param_file, 'rb') as file:\n",
    "        param_data = file.read()\n",
    "    \n",
    "    # Run the simulation\n",
    "    subprocess.run([\"./EpiNetSimulator\"], input=param_data, stdout=subprocess.PIPE)"
   ]
  },
  {
   "cell_type": "code",
   "execution_count": 31,
   "id": "021ff4ea-d983-45ed-89d0-49fe83015fa7",
   "metadata": {},
   "outputs": [],
   "source": [
    "def read_data(filename):\n",
    "    data = np.loadtxt(filename)\n",
    "    return data"
   ]
  },
  {
   "cell_type": "code",
   "execution_count": 32,
   "id": "981d018c-d88d-47ef-96a9-bfcbc24f3380",
   "metadata": {},
   "outputs": [],
   "source": [
    "nNodes = 1e5\n",
    "data = read_data('peakUSA.data')\n",
    "data = nNodes*data\n",
    "\n",
    "def objective_function(params):\n",
    "    modify_and_run(params)\n",
    "    simulated = read_data('aveNewI.dat')\n",
    "    rss = np.sum(np.square(data - simulated))\n",
    "    return rss"
   ]
  },
  {
   "cell_type": "code",
   "execution_count": 34,
   "id": "5205bfbf-a10f-4022-b194-02ae03d2d596",
   "metadata": {},
   "outputs": [
    {
     "name": "stdout",
     "output_type": "stream",
     "text": [
      "Optimal Parameters: [3.90613665 0.18900652 0.06176502 0.46524723]\n",
      "Minimum RSS: 16383.57\n"
     ]
    }
   ],
   "source": [
    "# Set bounds for K, E, B, C\n",
    "bounds = [(1, 20),  # K\n",
    "          (0.01, 1.0), # epsilon\n",
    "          (0.01, 0.3), # beta\n",
    "          (0.0, 1.0)]  # chi\n",
    "\n",
    "result = differential_evolution(objective_function, bounds, strategy='best1bin', maxiter=50, popsize=10)\n",
    "\n",
    "print('Optimal Parameters:', result.x)\n",
    "print('Minimum RSS:', result.fun)"
   ]
  },
  {
   "cell_type": "raw",
   "id": "f3a50907-d1bc-484e-a4cb-890f73cbcab8",
   "metadata": {},
   "source": [
    "Optimal Parameters: [3.90613665 0.18900652 0.06176502 0.46524723]\n",
    "Minimum RSS: 16383.57"
   ]
  }
 ],
 "metadata": {
  "kernelspec": {
   "display_name": "Python 3 (ipykernel)",
   "language": "python",
   "name": "python3"
  },
  "language_info": {
   "codemirror_mode": {
    "name": "ipython",
    "version": 3
   },
   "file_extension": ".py",
   "mimetype": "text/x-python",
   "name": "python",
   "nbconvert_exporter": "python",
   "pygments_lexer": "ipython3",
   "version": "3.10.12"
  }
 },
 "nbformat": 4,
 "nbformat_minor": 5
}
